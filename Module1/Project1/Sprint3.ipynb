{
 "cells": [
  {
   "cell_type": "code",
   "execution_count": 1,
   "metadata": {},
   "outputs": [],
   "source": [
    "import numpy as np"
   ]
  },
  {
   "cell_type": "code",
   "execution_count": 33,
   "metadata": {},
   "outputs": [
    {
     "name": "stdout",
     "output_type": "stream",
     "text": [
      "6.881860213634101\n",
      "12.8\n",
      "3.552713678800501e-15\n"
     ]
    }
   ],
   "source": [
    "#Ex1\n",
    "#Given, there are 5 numbers in the data set: (8, 12, 16, 24, 4). What is the standard deviation? And, what will be the sum of deviations of individual data points from their mean?\n",
    "dataset=[8,12,16,24,4]\n",
    "a=np.std(dataset)\n",
    "print(a)\n",
    "y=0\n",
    "z=np.mean(dataset)\n",
    "print(z)\n",
    "for x in dataset:\n",
    "    y=y+z-x\n",
    "print(y)"
   ]
  },
  {
   "cell_type": "code",
   "execution_count": null,
   "metadata": {},
   "outputs": [],
   "source": [
    "#Ex2\n",
    "#If some outliers are introduced to the dataset, what will happen to the Standard Deviation? Will it increase, decrease or remain the same?\n",
    "# This will increase the Standard Deviation."
   ]
  },
  {
   "cell_type": "code",
   "execution_count": null,
   "metadata": {},
   "outputs": [],
   "source": [
    "#Ex3\n",
    "#Suppose the below positively skewed distribution has a median of 30, which of the following statement is true?\n",
    "\n",
    "#A) Mean is greater than 30 - True\n",
    "#B) Mean is less than 30 - False\n",
    "#C) Mode is greater than 30 - False\n",
    "#D) Mode is less than 30 - True\n",
    "#E) Both A and D - True\n",
    "#F) Both B and C - False"
   ]
  },
  {
   "cell_type": "code",
   "execution_count": null,
   "metadata": {},
   "outputs": [],
   "source": [
    "#Ex4\n",
    "#Which value can be the possible value for the median of the below distribution?\n",
    "#Assume the data are distributed as follows:\n",
    "\n",
    "#[10, 10, 10, 10, 11, 11, 12, 13, 14 ]\n",
    "#[15, 15, 15, 16, 16, 16, 16, 16, 17, 18, 19, 19]\n",
    "#[20, 20, 20, 21, 21, 21, 21, 21, 22, 22, 22, 23, 23, 23, 24, 24, 24]\n",
    "#[26, 26, 26, 26, 26, 26, 26, 27, 27, 27, 27, 29, 29, 29, 29, 29, 29, 29, 29, 29]\n",
    "#[30, 30, 30, 30, 30, 31, 31, 32, 32, 33, 33, 34, 34]\n",
    "#[35, 35, 35, 37, 37, 37, 37, 39, 39, 39]\n",
    "#[40, 40, 43, 43, 44, 44]\n",
    "#[46, 46, 46, 47, 49]\n",
    "#[52, 53, 54]\n",
    "\n",
    "# 31 would be the median for this data"
   ]
  },
  {
   "cell_type": "code",
   "execution_count": null,
   "metadata": {},
   "outputs": [],
   "source": [
    "#Ex5-6-7\n",
    "#What is the shape of the distribution? (no Numpy)\n",
    "#positive skewed or right skewed\n",
    "#What would you consider to be the most appropriate measure of the center for this data?\n",
    "#Median would be the most appropriate since it is less affected by outliers\n",
    "#If Y axis represents the number of individuals and X axis – salary of the individual in thousands. How many individuals have salary less than 10 thousands? (no Numpy)\n",
    "#710"
   ]
  },
  {
   "cell_type": "code",
   "execution_count": 42,
   "metadata": {},
   "outputs": [
    {
     "name": "stdout",
     "output_type": "stream",
     "text": [
      "8.583333333333334\n",
      "7.0\n",
      "ModeResult(mode=array([[ 9, 13,  4,  5]]), count=array([[2, 2, 1, 1]]))\n"
     ]
    }
   ],
   "source": [
    "#Ex8\n",
    "#We have a set of positive numbers. If a single value of the set is altered what must change?\n",
    "\n",
    "#A) Mean\n",
    "#B) Median\n",
    "#C) Mode\n",
    "#D) All of these\n",
    "\n",
    "#Hint: try to create a Numpy array and calculate mean median and mode, then alter it and see what changes\n",
    "\n",
    "a = np.array([[9,13,4,5],[7,3,21,6],[9,13,6,7]])\n",
    "print(np.mean(a))\n",
    "print(np.median(a))\n",
    "from scipy import stats\n",
    "m=stats.mode(a)\n",
    "print(m)"
   ]
  },
  {
   "cell_type": "code",
   "execution_count": 44,
   "metadata": {},
   "outputs": [
    {
     "data": {
      "text/plain": [
       "18.641351882307248"
      ]
     },
     "execution_count": 44,
     "metadata": {},
     "output_type": "execute_result"
    }
   ],
   "source": [
    "#Ex9\n",
    "#Calculate the standard deviation of the salaries of the 10 employees.\n",
    "a=np.array([[25,3],[40,2],[35,1],[50,4]])\n",
    "np.std(a)\n"
   ]
  },
  {
   "cell_type": "code",
   "execution_count": null,
   "metadata": {},
   "outputs": [],
   "source": [
    "#Ex10\n",
    "#Which of the following random variables is discrete?\n",
    "\n",
    "#A) the length of time a battery lasts\n",
    "#B) the number of pens purchased by a student in a year\n",
    "#C) the percentage of cows in a cattle firm that have been vaccinated\n",
    "#D) the distance between a pair of towns\n",
    "\n",
    "# only B"
   ]
  },
  {
   "cell_type": "code",
   "execution_count": null,
   "metadata": {},
   "outputs": [],
   "source": [
    "#Ex11\n",
    "#Which of the below normal distributions will have the greatest spread?\n",
    "\n",
    "#A) mu=5, sigma =1.5\n",
    "#B) mu=10, sigma =1.0\n",
    "#C) mu=5, sigma =1.65\n",
    "#D) mu=8, sigma =1.2\n",
    "#E) mu=10, sigma =1.6\n",
    "\n",
    "#mu indicates mean, sigma indicates std dev.\n",
    "#C would have the greatest spread\n"
   ]
  },
  {
   "cell_type": "code",
   "execution_count": 4,
   "metadata": {},
   "outputs": [],
   "source": [
    "#Op1\n",
    "import numpy as np"
   ]
  },
  {
   "cell_type": "code",
   "execution_count": 45,
   "metadata": {},
   "outputs": [
    {
     "data": {
      "text/plain": [
       "'1.20.1'"
      ]
     },
     "execution_count": 45,
     "metadata": {},
     "output_type": "execute_result"
    }
   ],
   "source": [
    "#op2\n",
    "np.version.version"
   ]
  },
  {
   "cell_type": "code",
   "execution_count": 47,
   "metadata": {},
   "outputs": [
    {
     "data": {
      "text/plain": [
       "array([0., 0., 0., 0., 0., 0., 0., 0., 0., 0.])"
      ]
     },
     "execution_count": 47,
     "metadata": {},
     "output_type": "execute_result"
    }
   ],
   "source": [
    "#op3\n",
    "np.zeros(10)"
   ]
  },
  {
   "cell_type": "code",
   "execution_count": 10,
   "metadata": {},
   "outputs": [
    {
     "name": "stdout",
     "output_type": "stream",
     "text": [
      "Size of the array:  6\n",
      "Memory size of one array element in bytes:  4\n",
      "Memory size of numpy array in bytes: 24\n",
      "24\n"
     ]
    }
   ],
   "source": [
    "#op4\n",
    "x = np.array([[100, 20, 34],\n",
    "              [3, 466, 5]])\n",
    " \n",
    "print(\"Size of the array: \",\n",
    "      x.size)\n",
    " \n",
    "print(\"Memory size of one array element in bytes: \",\n",
    "      x.itemsize)\n",
    " \n",
    "# memory size of numpy array\n",
    "print(\"Memory size of numpy array in bytes:\",\n",
    "      x.size * x.itemsize)\n",
    "\n",
    "print(x.nbytes)"
   ]
  },
  {
   "cell_type": "code",
   "execution_count": 13,
   "metadata": {},
   "outputs": [
    {
     "name": "stdout",
     "output_type": "stream",
     "text": [
      "add(x1, x2, /, out=None, *, where=True, casting='same_kind', order='K', dtype=None, subok=True[, signature, extobj])\n",
      "\n",
      "Add arguments element-wise.\n",
      "\n",
      "Parameters\n",
      "----------\n",
      "x1, x2 : array_like\n",
      "    The arrays to be added.\n",
      "    If ``x1.shape != x2.shape``, they must be broadcastable to a common\n",
      "    shape (which becomes the shape of the output).\n",
      "out : ndarray, None, or tuple of ndarray and None, optional\n",
      "    A location into which the result is stored. If provided, it must have\n",
      "    a shape that the inputs broadcast to. If not provided or None,\n",
      "    a freshly-allocated array is returned. A tuple (possible only as a\n",
      "    keyword argument) must have length equal to the number of outputs.\n",
      "where : array_like, optional\n",
      "    This condition is broadcast over the input. At locations where the\n",
      "    condition is True, the `out` array will be set to the ufunc result.\n",
      "    Elsewhere, the `out` array will retain its original value.\n",
      "    Note that if an uninitialized `out` array is created via the default\n",
      "    ``out=None``, locations within it where the condition is False will\n",
      "    remain uninitialized.\n",
      "**kwargs\n",
      "    For other keyword-only arguments, see the\n",
      "    :ref:`ufunc docs <ufuncs.kwargs>`.\n",
      "\n",
      "Returns\n",
      "-------\n",
      "add : ndarray or scalar\n",
      "    The sum of `x1` and `x2`, element-wise.\n",
      "    This is a scalar if both `x1` and `x2` are scalars.\n",
      "\n",
      "Notes\n",
      "-----\n",
      "Equivalent to `x1` + `x2` in terms of array broadcasting.\n",
      "\n",
      "Examples\n",
      "--------\n",
      ">>> np.add(1.0, 4.0)\n",
      "5.0\n",
      ">>> x1 = np.arange(9.0).reshape((3, 3))\n",
      ">>> x2 = np.arange(3.0)\n",
      ">>> np.add(x1, x2)\n",
      "array([[  0.,   2.,   4.],\n",
      "       [  3.,   5.,   7.],\n",
      "       [  6.,   8.,  10.]])\n",
      "\n",
      "The ``+`` operator can be used as a shorthand for ``np.add`` on ndarrays.\n",
      "\n",
      ">>> x1 = np.arange(9.0).reshape((3, 3))\n",
      ">>> x2 = np.arange(3.0)\n",
      ">>> x1 + x2\n",
      "array([[ 0.,  2.,  4.],\n",
      "       [ 3.,  5.,  7.],\n",
      "       [ 6.,  8., 10.]])\n",
      "None\n"
     ]
    }
   ],
   "source": [
    "#op5\n",
    "print(np.info(np.add))\n"
   ]
  },
  {
   "cell_type": "code",
   "execution_count": 14,
   "metadata": {},
   "outputs": [
    {
     "name": "stdout",
     "output_type": "stream",
     "text": [
      "[0. 0. 0. 0. 0. 1. 0. 0. 0. 0.]\n"
     ]
    }
   ],
   "source": [
    "#op6\n",
    "x=np.zeros(10)\n",
    "x[5]=1\n",
    "print(x)"
   ]
  },
  {
   "cell_type": "code",
   "execution_count": 16,
   "metadata": {},
   "outputs": [
    {
     "name": "stdout",
     "output_type": "stream",
     "text": [
      "[10.         11.34482759 12.68965517 14.03448276 15.37931034 16.72413793\n",
      " 18.06896552 19.4137931  20.75862069 22.10344828 23.44827586 24.79310345\n",
      " 26.13793103 27.48275862 28.82758621 30.17241379 31.51724138 32.86206897\n",
      " 34.20689655 35.55172414 36.89655172 38.24137931 39.5862069  40.93103448\n",
      " 42.27586207 43.62068966 44.96551724 46.31034483 47.65517241 49.        ]\n"
     ]
    }
   ],
   "source": [
    "#op7\n",
    "x=np.linspace(10,49,30)\n",
    "print(x)"
   ]
  },
  {
   "cell_type": "code",
   "execution_count": 21,
   "metadata": {},
   "outputs": [
    {
     "name": "stdout",
     "output_type": "stream",
     "text": [
      "[49.         47.65517241 46.31034483 44.96551724 43.62068966 42.27586207\n",
      " 40.93103448 39.5862069  38.24137931 36.89655172 35.55172414 34.20689655\n",
      " 32.86206897 31.51724138 30.17241379 28.82758621 27.48275862 26.13793103\n",
      " 24.79310345 23.44827586 22.10344828 20.75862069 19.4137931  18.06896552\n",
      " 16.72413793 15.37931034 14.03448276 12.68965517 11.34482759 10.        ]\n"
     ]
    }
   ],
   "source": [
    "#op8\n",
    "x=np.flip(x)\n",
    "print(x)"
   ]
  },
  {
   "cell_type": "code",
   "execution_count": 32,
   "metadata": {},
   "outputs": [
    {
     "name": "stdout",
     "output_type": "stream",
     "text": [
      "[0. 1. 2. 3. 4. 5. 6. 7. 8.]\n",
      "[[0. 1. 2.]\n",
      " [3. 4. 5.]\n",
      " [6. 7. 8.]]\n"
     ]
    }
   ],
   "source": [
    "#op9\n",
    "y=np.linspace(0,8,9)\n",
    "print(y)\n",
    "y=y.reshape(3,3)\n",
    "print(y)\n"
   ]
  },
  {
   "cell_type": "code",
   "execution_count": 40,
   "metadata": {},
   "outputs": [
    {
     "name": "stdout",
     "output_type": "stream",
     "text": [
      "[2, 3, 5]\n"
     ]
    }
   ],
   "source": [
    "#op10\n",
    "x=[1,2,0,0,4,0]\n",
    "a=[]\n",
    "for i in range(len(x)):\n",
    "    if x[i]==0: \n",
    "        a.append(i)\n",
    "print(a)\n",
    "\n"
   ]
  },
  {
   "cell_type": "code",
   "execution_count": 42,
   "metadata": {},
   "outputs": [
    {
     "data": {
      "text/plain": [
       "[2, 3, 5]"
      ]
     },
     "execution_count": 42,
     "metadata": {},
     "output_type": "execute_result"
    }
   ],
   "source": [
    "#op10\n",
    "\n",
    "[i for i, e in enumerate(x) if e == 0]"
   ]
  },
  {
   "cell_type": "code",
   "execution_count": 45,
   "metadata": {},
   "outputs": [
    {
     "name": "stdout",
     "output_type": "stream",
     "text": [
      "[[1. 0. 0.]\n",
      " [0. 1. 0.]\n",
      " [0. 0. 1.]]\n"
     ]
    }
   ],
   "source": [
    "#op11\n",
    "x=np.eye(3,3)\n",
    "print(x)"
   ]
  },
  {
   "cell_type": "code",
   "execution_count": 54,
   "metadata": {},
   "outputs": [
    {
     "name": "stdout",
     "output_type": "stream",
     "text": [
      "[[[0.94955169 0.41599831 0.69894005]\n",
      "  [0.11164767 0.0211804  0.40327694]\n",
      "  [0.83014655 0.48440728 0.88734618]]\n",
      "\n",
      " [[0.02985235 0.25450644 0.51411667]\n",
      "  [0.48115748 0.26015994 0.44707887]\n",
      "  [0.09331111 0.51272514 0.94795428]]\n",
      "\n",
      " [[0.21608406 0.43981424 0.05833283]\n",
      "  [0.18741474 0.16395992 0.35856939]\n",
      "  [0.72483655 0.21126464 0.89912693]]]\n"
     ]
    }
   ],
   "source": [
    "#op12\n",
    "x=np.random.rand(3,3,3)\n",
    "print(x)\n"
   ]
  },
  {
   "cell_type": "code",
   "execution_count": 55,
   "metadata": {},
   "outputs": [
    {
     "name": "stdout",
     "output_type": "stream",
     "text": [
      "[[0.42685029 0.66355833 0.19846894 0.65953613 0.29955138 0.9391018\n",
      "  0.42410414 0.955849   0.51447972 0.856439  ]\n",
      " [0.72158999 0.53389603 0.9566275  0.68448116 0.2235521  0.95662718\n",
      "  0.13543434 0.45501606 0.25494341 0.9091659 ]\n",
      " [0.52161768 0.25225165 0.99027868 0.79581586 0.43727848 0.3137245\n",
      "  0.93592362 0.93459987 0.95077715 0.46019137]\n",
      " [0.48692703 0.52525771 0.35560857 0.83380064 0.45021855 0.7512785\n",
      "  0.07181074 0.08517619 0.65028467 0.32267785]\n",
      " [0.29297954 0.3827309  0.75420021 0.5751786  0.91385483 0.78486709\n",
      "  0.2967519  0.29240875 0.95289103 0.88451604]\n",
      " [0.62654583 0.64977629 0.65751086 0.26289269 0.45704997 0.44386893\n",
      "  0.37919289 0.7251481  0.54050047 0.228048  ]\n",
      " [0.36799906 0.2586833  0.35449841 0.79099322 0.41060577 0.19332939\n",
      "  0.87650927 0.19631836 0.40480515 0.58291792]\n",
      " [0.99274481 0.68144392 0.63934789 0.51517169 0.85604609 0.16370386\n",
      "  0.84232238 0.21369132 0.68438275 0.52836873]\n",
      " [0.1435522  0.12323586 0.63526622 0.86680563 0.99319598 0.75939098\n",
      "  0.23912428 0.33266648 0.83015641 0.35073604]\n",
      " [0.52728464 0.90434853 0.72498305 0.65348723 0.23032221 0.87183423\n",
      "  0.11244864 0.76292676 0.54872757 0.76553429]]\n"
     ]
    },
    {
     "data": {
      "text/plain": [
       "0.9931959800416842"
      ]
     },
     "execution_count": 55,
     "metadata": {},
     "output_type": "execute_result"
    }
   ],
   "source": [
    "#op13\n",
    "y=np.random.rand(10,10)\n",
    "print(y)\n",
    "y.max()\n"
   ]
  },
  {
   "cell_type": "code",
   "execution_count": 62,
   "metadata": {},
   "outputs": [
    {
     "data": {
      "text/plain": [
       "51.8"
      ]
     },
     "execution_count": 62,
     "metadata": {},
     "output_type": "execute_result"
    }
   ],
   "source": [
    "#op14\n",
    "x = np.random.randint(0,100,30)\n",
    "#print(x)\n",
    "\n",
    "np.mean(x)\n"
   ]
  },
  {
   "cell_type": "code",
   "execution_count": 79,
   "metadata": {},
   "outputs": [
    {
     "name": "stdout",
     "output_type": "stream",
     "text": [
      "[[1. 1. 1. 1. 1. 1. 1.]\n",
      " [1. 0. 0. 0. 0. 0. 1.]\n",
      " [1. 0. 0. 0. 0. 0. 1.]\n",
      " [1. 0. 0. 0. 0. 0. 1.]\n",
      " [1. 0. 0. 0. 0. 0. 1.]\n",
      " [1. 1. 1. 1. 1. 1. 1.]]\n"
     ]
    }
   ],
   "source": [
    "#op15\n",
    "x=np.ones((6,7)) \n",
    "x[1:-1,1:-1] = 0\n",
    "print(x)"
   ]
  },
  {
   "cell_type": "code",
   "execution_count": 80,
   "metadata": {},
   "outputs": [
    {
     "name": "stdout",
     "output_type": "stream",
     "text": [
      "[[0. 0. 0. 0. 0. 0. 0. 0. 0.]\n",
      " [0. 1. 1. 1. 1. 1. 1. 1. 0.]\n",
      " [0. 1. 0. 0. 0. 0. 0. 1. 0.]\n",
      " [0. 1. 0. 0. 0. 0. 0. 1. 0.]\n",
      " [0. 1. 0. 0. 0. 0. 0. 1. 0.]\n",
      " [0. 1. 0. 0. 0. 0. 0. 1. 0.]\n",
      " [0. 1. 1. 1. 1. 1. 1. 1. 0.]\n",
      " [0. 0. 0. 0. 0. 0. 0. 0. 0.]]\n"
     ]
    }
   ],
   "source": [
    "#op16\n",
    "x=np.pad(x, pad_width=1, mode=\"constant\", constant_values=0)\n",
    "#print(np.info(np.pad))\n",
    "print(x)"
   ]
  },
  {
   "cell_type": "code",
   "execution_count": 81,
   "metadata": {},
   "outputs": [
    {
     "data": {
      "text/plain": [
       "False"
      ]
     },
     "execution_count": 81,
     "metadata": {},
     "output_type": "execute_result"
    }
   ],
   "source": [
    "#op17\n",
    "# wait, what is it false ?\n",
    "0 * np.nan\n",
    "np.nan == np.nan\n",
    "np.inf > np.nan\n",
    "np.nan - np.nan\n",
    "np.nan in set([np.nan])\n",
    "0.3 == 3 * 0.1"
   ]
  },
  {
   "cell_type": "code",
   "execution_count": 86,
   "metadata": {},
   "outputs": [
    {
     "name": "stdout",
     "output_type": "stream",
     "text": [
      "[[0 0 0 0 0 0 0 0]\n",
      " [1 0 0 1 0 0 1 0]\n",
      " [0 0 0 0 0 0 0 0]\n",
      " [0 0 0 0 0 0 0 0]\n",
      " [1 0 0 1 0 0 1 0]\n",
      " [0 0 0 0 0 0 0 0]\n",
      " [0 0 0 0 0 0 0 0]\n",
      " [1 0 0 1 0 0 1 0]]\n"
     ]
    }
   ],
   "source": [
    "#op19\n",
    "Z = np.zeros((8,8),dtype=int)\n",
    "Z[1::3,::3] = 1\n",
    "#Z[::2,1::2] = 1\n",
    "print(Z)"
   ]
  },
  {
   "cell_type": "code",
   "execution_count": 82,
   "metadata": {},
   "outputs": [
    {
     "name": "stdout",
     "output_type": "stream",
     "text": [
      "[[ 17  23]\n",
      " [ 31  43]\n",
      " [ 38  53]\n",
      " [ 45  63]\n",
      " [194 286]]\n"
     ]
    }
   ],
   "source": [
    "#op24\n",
    "a=[[1,2,3],[3,4,5],[4,5,6],[5,6,7],[6,78,8]]\n",
    "b=[[1,2],[2,3],[4,5]]\n",
    "Z = np.dot(a, b)\n",
    "print(Z)"
   ]
  }
 ],
 "metadata": {
  "kernelspec": {
   "display_name": "base",
   "language": "python",
   "name": "python3"
  },
  "language_info": {
   "codemirror_mode": {
    "name": "ipython",
    "version": 3
   },
   "file_extension": ".py",
   "mimetype": "text/x-python",
   "name": "python",
   "nbconvert_exporter": "python",
   "pygments_lexer": "ipython3",
   "version": "3.8.8"
  },
  "orig_nbformat": 4
 },
 "nbformat": 4,
 "nbformat_minor": 2
}
