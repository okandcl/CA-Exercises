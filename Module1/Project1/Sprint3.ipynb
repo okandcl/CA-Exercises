{
 "cells": [
  {
   "cell_type": "code",
   "execution_count": 1,
   "metadata": {},
   "outputs": [],
   "source": [
    "import numpy as np"
   ]
  },
  {
   "cell_type": "code",
   "execution_count": 33,
   "metadata": {},
   "outputs": [
    {
     "name": "stdout",
     "output_type": "stream",
     "text": [
      "6.881860213634101\n",
      "12.8\n",
      "3.552713678800501e-15\n"
     ]
    }
   ],
   "source": [
    "#Ex1\n",
    "#Given, there are 5 numbers in the data set: (8, 12, 16, 24, 4). What is the standard deviation? And, what will be the sum of deviations of individual data points from their mean?\n",
    "dataset=[8,12,16,24,4]\n",
    "a=np.std(dataset)\n",
    "print(a)\n",
    "y=0\n",
    "z=np.mean(dataset)\n",
    "print(z)\n",
    "for x in dataset:\n",
    "    y=y+z-x\n",
    "print(y)"
   ]
  },
  {
   "cell_type": "code",
   "execution_count": null,
   "metadata": {},
   "outputs": [],
   "source": [
    "#Ex2\n",
    "#If some outliers are introduced to the dataset, what will happen to the Standard Deviation? Will it increase, decrease or remain the same?\n",
    "# This will increase the Standard Deviation."
   ]
  },
  {
   "cell_type": "code",
   "execution_count": null,
   "metadata": {},
   "outputs": [],
   "source": [
    "#Ex3\n",
    "#Suppose the below positively skewed distribution has a median of 30, which of the following statement is true?\n",
    "\n",
    "#A) Mean is greater than 30 - True\n",
    "#B) Mean is less than 30 - False\n",
    "#C) Mode is greater than 30 - False\n",
    "#D) Mode is less than 30 - True\n",
    "#E) Both A and D - True\n",
    "#F) Both B and C - False"
   ]
  },
  {
   "cell_type": "code",
   "execution_count": null,
   "metadata": {},
   "outputs": [],
   "source": [
    "#Ex4\n",
    "#Which value can be the possible value for the median of the below distribution?\n",
    "#Assume the data are distributed as follows:\n",
    "\n",
    "#[10, 10, 10, 10, 11, 11, 12, 13, 14 ]\n",
    "#[15, 15, 15, 16, 16, 16, 16, 16, 17, 18, 19, 19]\n",
    "#[20, 20, 20, 21, 21, 21, 21, 21, 22, 22, 22, 23, 23, 23, 24, 24, 24]\n",
    "#[26, 26, 26, 26, 26, 26, 26, 27, 27, 27, 27, 29, 29, 29, 29, 29, 29, 29, 29, 29]\n",
    "#[30, 30, 30, 30, 30, 31, 31, 32, 32, 33, 33, 34, 34]\n",
    "#[35, 35, 35, 37, 37, 37, 37, 39, 39, 39]\n",
    "#[40, 40, 43, 43, 44, 44]\n",
    "#[46, 46, 46, 47, 49]\n",
    "#[52, 53, 54]\n",
    "\n",
    "# 31 would be the median for this data"
   ]
  },
  {
   "cell_type": "code",
   "execution_count": null,
   "metadata": {},
   "outputs": [],
   "source": [
    "#Ex5-6-7\n",
    "#What is the shape of the distribution? (no Numpy)\n",
    "#positive skewed or right skewed\n",
    "#What would you consider to be the most appropriate measure of the center for this data?\n",
    "#Median would be the most appropriate since it is less affected by outliers\n",
    "#If Y axis represents the number of individuals and X axis – salary of the individual in thousands. How many individuals have salary less than 10 thousands? (no Numpy)\n",
    "#710"
   ]
  },
  {
   "cell_type": "code",
   "execution_count": 42,
   "metadata": {},
   "outputs": [
    {
     "name": "stdout",
     "output_type": "stream",
     "text": [
      "8.583333333333334\n",
      "7.0\n",
      "ModeResult(mode=array([[ 9, 13,  4,  5]]), count=array([[2, 2, 1, 1]]))\n"
     ]
    }
   ],
   "source": [
    "#Ex8\n",
    "#We have a set of positive numbers. If a single value of the set is altered what must change?\n",
    "\n",
    "#A) Mean\n",
    "#B) Median\n",
    "#C) Mode\n",
    "#D) All of these\n",
    "\n",
    "#Hint: try to create a Numpy array and calculate mean median and mode, then alter it and see what changes\n",
    "\n",
    "a = np.array([[9,13,4,5],[7,3,21,6],[9,13,6,7]])\n",
    "print(np.mean(a))\n",
    "print(np.median(a))\n",
    "from scipy import stats\n",
    "m=stats.mode(a)\n",
    "print(m)"
   ]
  },
  {
   "cell_type": "code",
   "execution_count": 44,
   "metadata": {},
   "outputs": [
    {
     "data": {
      "text/plain": [
       "18.641351882307248"
      ]
     },
     "execution_count": 44,
     "metadata": {},
     "output_type": "execute_result"
    }
   ],
   "source": [
    "#Ex9\n",
    "#Calculate the standard deviation of the salaries of the 10 employees.\n",
    "a=np.array([[25,3],[40,2],[35,1],[50,4]])\n",
    "np.std(a)\n"
   ]
  },
  {
   "cell_type": "code",
   "execution_count": null,
   "metadata": {},
   "outputs": [],
   "source": [
    "#Ex10\n",
    "#Which of the following random variables is discrete?\n",
    "\n",
    "#A) the length of time a battery lasts\n",
    "#B) the number of pens purchased by a student in a year\n",
    "#C) the percentage of cows in a cattle firm that have been vaccinated\n",
    "#D) the distance between a pair of towns\n",
    "\n",
    "# only B"
   ]
  },
  {
   "cell_type": "code",
   "execution_count": null,
   "metadata": {},
   "outputs": [],
   "source": [
    "#Ex11\n",
    "#Which of the below normal distributions will have the greatest spread?\n",
    "\n",
    "#A) mu=5, sigma =1.5\n",
    "#B) mu=10, sigma =1.0\n",
    "#C) mu=5, sigma =1.65\n",
    "#D) mu=8, sigma =1.2\n",
    "#E) mu=10, sigma =1.6\n",
    "\n",
    "#mu indicates mean, sigma indicates std dev.\n",
    "#C would have the greatest spread\n"
   ]
  },
  {
   "cell_type": "code",
   "execution_count": null,
   "metadata": {},
   "outputs": [],
   "source": [
    "#Op1\n",
    "#import numpy as np"
   ]
  },
  {
   "cell_type": "code",
   "execution_count": 45,
   "metadata": {},
   "outputs": [
    {
     "data": {
      "text/plain": [
       "'1.20.1'"
      ]
     },
     "execution_count": 45,
     "metadata": {},
     "output_type": "execute_result"
    }
   ],
   "source": [
    "#op2\n",
    "np.version.version"
   ]
  },
  {
   "cell_type": "code",
   "execution_count": 47,
   "metadata": {},
   "outputs": [
    {
     "data": {
      "text/plain": [
       "array([0., 0., 0., 0., 0., 0., 0., 0., 0., 0.])"
      ]
     },
     "execution_count": 47,
     "metadata": {},
     "output_type": "execute_result"
    }
   ],
   "source": [
    "#op3\n",
    "np.zeros(10)"
   ]
  }
 ],
 "metadata": {
  "kernelspec": {
   "display_name": "base",
   "language": "python",
   "name": "python3"
  },
  "language_info": {
   "codemirror_mode": {
    "name": "ipython",
    "version": 3
   },
   "file_extension": ".py",
   "mimetype": "text/x-python",
   "name": "python",
   "nbconvert_exporter": "python",
   "pygments_lexer": "ipython3",
   "version": "3.8.8"
  },
  "orig_nbformat": 4
 },
 "nbformat": 4,
 "nbformat_minor": 2
}
