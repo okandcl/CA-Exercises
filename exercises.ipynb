{
 "cells": [
  {
   "cell_type": "code",
   "execution_count": 8,
   "metadata": {},
   "outputs": [
    {
     "name": "stdout",
     "output_type": "stream",
     "text": [
      "okan\n",
      "github is not easy to use\n"
     ]
    }
   ],
   "source": [
    "my_name = \"okan\"\n",
    "print(my_name)\n",
    "print(\"github is not easy to use\")"
   ]
  },
  {
   "cell_type": "code",
   "execution_count": 7,
   "metadata": {},
   "outputs": [
    {
     "name": "stdout",
     "output_type": "stream",
     "text": [
      "37\n"
     ]
    }
   ],
   "source": [
    "age=(37)\n",
    "print(age)"
   ]
  },
  {
   "cell_type": "code",
   "execution_count": 10,
   "metadata": {},
   "outputs": [
    {
     "name": "stdout",
     "output_type": "stream",
     "text": [
      "5\n"
     ]
    }
   ],
   "source": [
    "julia_age=(32)\n",
    "age_diff=(age-julia_age)\n",
    "print(age_diff)"
   ]
  },
  {
   "cell_type": "code",
   "execution_count": 19,
   "metadata": {},
   "outputs": [
    {
     "name": "stdout",
     "output_type": "stream",
     "text": [
      "you are older than 21\n"
     ]
    }
   ],
   "source": [
    "if (age<21):\n",
    "    print(\"you are younger than 21\")\n",
    "else:\n",
    "    print(\"you are older than 21\")"
   ]
  },
  {
   "cell_type": "code",
   "execution_count": 29,
   "metadata": {},
   "outputs": [
    {
     "name": "stdout",
     "output_type": "stream",
     "text": [
      "you are older than julia\n"
     ]
    }
   ],
   "source": [
    "if (age<julia_age):\n",
    "    print(\"you are younger than julia\")\n",
    "elif (age==julia_age):\n",
    "     print(\"you are at same age as julia\")\n",
    "else:\n",
    "    print(\"you are older than julia\")\n",
    "\n"
   ]
  },
  {
   "cell_type": "code",
   "execution_count": 36,
   "metadata": {},
   "outputs": [
    {
     "name": "stdout",
     "output_type": "stream",
     "text": [
      "arjun\n",
      "yazdan\n",
      "arjun\n",
      "jost\n",
      "killian\n",
      "muayad\n",
      "chris\n",
      "lucas\n",
      "milan\n",
      "okan\n",
      "robert\n",
      "susan\n",
      "yazdan\n"
     ]
    }
   ],
   "source": [
    "names=[\"arjun\",\"jost\",\"killian\",\"muayad\",\"chris\",\"lucas\",\"milan\",\"okan\",\"robert\",\"susan\",\"yazdan\"]\n",
    "sorted(names)\n",
    "print(names[0])\n",
    "print(names[-1])\n",
    "for x in (names):\n",
    "    print(x)\n"
   ]
  },
  {
   "cell_type": "code",
   "execution_count": 42,
   "metadata": {},
   "outputs": [
    {
     "name": "stdout",
     "output_type": "stream",
     "text": [
      "20\n",
      "25\n",
      "26\n",
      "33\n",
      "37\n",
      "38\n",
      "20\n",
      "26\n",
      "38\n"
     ]
    }
   ],
   "source": [
    "ages=[20,25,26,33,37,38]\n",
    "for x in ages:\n",
    "    print(x)\n",
    "for x in ages:\n",
    "    if (x % 2 == 0):\n",
    "        print(x)\n"
   ]
  },
  {
   "cell_type": "code",
   "execution_count": 47,
   "metadata": {},
   "outputs": [
    {
     "name": "stdout",
     "output_type": "stream",
     "text": [
      "2\n"
     ]
    }
   ],
   "source": [
    "nbrs=[2,5,7,9,13,43,66,98]\n",
    "y=nbrs[0]\n",
    "for x in nbrs:\n",
    "    if x<y:\n",
    "        y=(x)\n",
    "print(y)"
   ]
  },
  {
   "cell_type": "code",
   "execution_count": 50,
   "metadata": {},
   "outputs": [
    {
     "name": "stdout",
     "output_type": "stream",
     "text": [
      "100\n"
     ]
    }
   ],
   "source": [
    "nbrs=[100,2,5,7,9,13,43,66,98]\n",
    "y=nbrs[0]\n",
    "for x in nbrs:\n",
    "    if x>y:\n",
    "        y=(x)\n",
    "print(y)"
   ]
  },
  {
   "cell_type": "code",
   "execution_count": 49,
   "metadata": {},
   "outputs": [
    {
     "name": "stdout",
     "output_type": "stream",
     "text": [
      "24\n",
      "28\n",
      "18\n",
      "13\n",
      "16\n",
      "17\n",
      "29\n",
      "27\n",
      "44\n",
      "15\n"
     ]
    }
   ],
   "source": [
    "customer_bd=[1999, 1995, 2005, 2010, 2007, 2006, 1994, 1996, 1979, 2008]\n",
    "for x in customer_bd:\n",
    "    print(2023-x)"
   ]
  },
  {
   "cell_type": "code",
   "execution_count": 8,
   "metadata": {},
   "outputs": [
    {
     "name": "stdout",
     "output_type": "stream",
     "text": [
      "Name is  Bob ,  24 years old.\n",
      "Name is  Jack ,  28 years old.\n",
      "Name is  Lisa ,  18 years old.\n",
      "Name is  Maria ,  13 years old.\n",
      "Name is  Ben ,  16 years old.\n",
      "Name is  Emma ,  17 years old.\n",
      "Name is  Oscar ,  29 years old.\n",
      "Name is  Amy ,  27 years old.\n",
      "Name is  Paul ,  44 years old.\n",
      "Name is  Etta ,  15 years old.\n"
     ]
    }
   ],
   "source": [
    "customer_list = [\n",
    "                    {\"name\": \"Bob\", \"age\": 1999},\n",
    "                    {\"name\": \"Jack\", \"age\": 1995},\n",
    "                    {\"name\": \"Lisa\", \"age\": 2005},\n",
    "                    {\"name\": \"Maria\", \"age\": 2010},\n",
    "                    {\"name\": \"Ben\", \"age\": 2007},\n",
    "                    {\"name\": \"Emma\", \"age\": 2006},\n",
    "                    {\"name\": \"Oscar\", \"age\": 1994},\n",
    "                    {\"name\": \"Amy\", \"age\": 1996},\n",
    "                    {\"name\": \"Paul\", \"age\": 1979},\n",
    "                    {\"name\": \"Etta\", \"age\": 2008}\n",
    "                ]\n",
    "for x in customer_list:\n",
    "    print('Name is ',x[\"name\"] ,', ', (2023-x[\"age\"]), 'years old.')\n",
    "    \n",
    "    "
   ]
  },
  {
   "cell_type": "code",
   "execution_count": 139,
   "metadata": {},
   "outputs": [
    {
     "name": "stdout",
     "output_type": "stream",
     "text": [
      "[20, 24, 14, 12, 13, 25, 23, 11]\n"
     ]
    }
   ],
   "source": [
    "ages = [20, 24, 14, 9, 12, 13, 25, 23, 40, 11]\n",
    "y=ages[0]\n",
    "for x in ages:\n",
    "    if x>y:\n",
    "        y=(x)\n",
    "ages.remove(y)\n",
    "y=ages[0]\n",
    "for x in ages:\n",
    "    if x<y:\n",
    "        y=(x)\n",
    "ages.remove(y)\n",
    "print(ages)\n"
   ]
  },
  {
   "cell_type": "code",
   "execution_count": 140,
   "metadata": {},
   "outputs": [
    {
     "name": "stdout",
     "output_type": "stream",
     "text": [
      "[15, 13, 16, 18, 19, 10]\n"
     ]
    }
   ],
   "source": [
    "berlin = [15, 13, 16, 18, 19, 10, 12 ]\n",
    "munich = [7, 13, 15, 20, 19, 18, 10, 16]\n",
    "com_ages = []\n",
    "for x in berlin:\n",
    "    for y in munich:\n",
    "        if x==y:\n",
    "            com_ages.append(y)\n",
    "print(com_ages)"
   ]
  },
  {
   "cell_type": "code",
   "execution_count": 146,
   "metadata": {},
   "outputs": [
    {
     "name": "stdout",
     "output_type": "stream",
     "text": [
      "[13, 16, 18, 19, 10]\n"
     ]
    }
   ],
   "source": [
    "rem_dups=[15,13,16,18,19,15,10]\n",
    "y=rem_dups[0]\n",
    "for x in rem_dups:\n",
    "    if x==y:\n",
    "        rem_dups.remove(y)\n",
    "print(rem_dups)\n"
   ]
  },
  {
   "cell_type": "code",
   "execution_count": 154,
   "metadata": {},
   "outputs": [
    {
     "name": "stdout",
     "output_type": "stream",
     "text": [
      "hello asdasd have a nice day\n"
     ]
    }
   ],
   "source": [
    "def welcome(x):\n",
    "    print(\"hello \" + x+ \" have a nice day\")\n",
    "welcome(\"asdasd\")"
   ]
  },
  {
   "cell_type": "code",
   "execution_count": 158,
   "metadata": {},
   "outputs": [
    {
     "name": "stdout",
     "output_type": "stream",
     "text": [
      "24\n"
     ]
    }
   ],
   "source": [
    "def get_length(y):\n",
    "    z=0\n",
    "    for x in y:\n",
    "        z=(z+1)\n",
    "    print(z)\n",
    "\n",
    "get_length(\"ahmet the dead terrorist\")"
   ]
  },
  {
   "cell_type": "code",
   "execution_count": 160,
   "metadata": {},
   "outputs": [
    {
     "name": "stdout",
     "output_type": "stream",
     "text": [
      "no\n"
     ]
    }
   ],
   "source": [
    "def check_even(x):\n",
    "    if x%2==0:\n",
    "        print(\"yes\")\n",
    "    else:\n",
    "        print(\"no\")\n",
    "check_even(7)"
   ]
  },
  {
   "cell_type": "code",
   "execution_count": 163,
   "metadata": {},
   "outputs": [
    {
     "name": "stdout",
     "output_type": "stream",
     "text": [
      "[20, 24, 14, 12, 13, 25, 23, 11]\n"
     ]
    }
   ],
   "source": [
    "#ex18\n",
    "#x12\n",
    "def min_max_remove(ages):\n",
    "    y=ages[0]\n",
    "    for x in ages:\n",
    "        if x>y:\n",
    "            y=(x)\n",
    "    ages.remove(y)\n",
    "    y=ages[0]\n",
    "    for x in ages:\n",
    "        if x<y:\n",
    "            y=(x)\n",
    "    ages.remove(y)\n",
    "print(ages)\n"
   ]
  },
  {
   "cell_type": "code",
   "execution_count": 191,
   "metadata": {},
   "outputs": [
    {
     "name": "stdout",
     "output_type": "stream",
     "text": [
      "[15, 13, 16, 18, 19, 10]\n"
     ]
    }
   ],
   "source": [
    "#13\n",
    "def commons(berlin,munich):\n",
    "    com_ages = []\n",
    "    for x in berlin:\n",
    "        for y in munich:\n",
    "            if x==y:\n",
    "                com_ages.append(y)\n",
    "print(com_ages)"
   ]
  },
  {
   "cell_type": "code",
   "execution_count": 13,
   "metadata": {},
   "outputs": [
    {
     "name": "stdout",
     "output_type": "stream",
     "text": [
      "[3, 4, 5, 6, 7, 8, 9]\n"
     ]
    }
   ],
   "source": [
    "#ex14\n",
    "def remove_duplicates(rem_dups):\n",
    "    y=rem_dups[0]\n",
    "    for x in rem_dups:\n",
    "        if x==y:\n",
    "            rem_dups.remove(y)\n",
    "        else:\n",
    "            y=x\n",
    "    print(rem_dups)\n",
    "zort=[3,3,4,5,6,7,7,8,9,]\n",
    "remove_duplicates(zort)\n",
    "\n"
   ]
  },
  {
   "cell_type": "markdown",
   "metadata": {},
   "source": [
    "#Ex15\n",
    "#15 itself is a function WTF!"
   ]
  },
  {
   "cell_type": "code",
   "execution_count": 204,
   "metadata": {},
   "outputs": [
    {
     "name": "stdout",
     "output_type": "stream",
     "text": [
      "False\n"
     ]
    }
   ],
   "source": [
    "#EX19\n",
    "def wtf(x,y):\n",
    "    g=(\"False\")\n",
    "    for z in x:\n",
    "        if z==y:\n",
    "            g=(\"True\")\n",
    "    print(g)\n",
    "\n",
    "okan=[\"o\",\"k\",\"a\",\"n\"]\n",
    "wtf(okan,\"y\")"
   ]
  },
  {
   "cell_type": "code",
   "execution_count": 251,
   "metadata": {},
   "outputs": [
    {
     "name": "stdout",
     "output_type": "stream",
     "text": [
      "[24, 28, 18, 13, 16, 17, 29, 27, 44, 15]\n"
     ]
    }
   ],
   "source": [
    "#Optional exercises\n",
    "#1\n",
    "\n",
    "def cus_age(x):\n",
    "    z=[]\n",
    "    for y in x:\n",
    "        z.append(2023-y)\n",
    "    print(z)\n",
    "asd=[1999, 1995, 2005, 2010, 2007, 2006, 1994, 1996, 1979, 2008]\n",
    "cus_age(asd)\n"
   ]
  },
  {
   "cell_type": "code",
   "execution_count": 1,
   "metadata": {},
   "outputs": [
    {
     "name": "stdout",
     "output_type": "stream",
     "text": [
      "[20, 24, 14, 12, 13, 25, 23, 11]\n"
     ]
    }
   ],
   "source": [
    "#2\n",
    "def rem_min_max(ages):\n",
    "    y=ages[0]\n",
    "    for x in ages:\n",
    "        if x>y:\n",
    "            y=(x)\n",
    "    ages.remove(y)\n",
    "    y=ages[0]\n",
    "    for x in ages:\n",
    "        if x<y:\n",
    "            y=(x)\n",
    "    ages.remove(y)\n",
    "    print(ages)\n",
    "x = [20, 24, 14, 9, 12, 13, 25, 23, 40, 11]\n",
    "rem_min_max(x)"
   ]
  },
  {
   "cell_type": "code",
   "execution_count": 2,
   "metadata": {},
   "outputs": [
    {
     "name": "stdout",
     "output_type": "stream",
     "text": [
      "[15, 13, 16, 18, 19, 10]\n"
     ]
    }
   ],
   "source": [
    "#3\n",
    "x = [15, 13, 16, 18, 19, 10, 12 ]\n",
    "y = [7, 13, 15, 20, 19, 18, 10, 16]\n",
    "def common_ages(berlin,munich):\n",
    "    com_ages = []\n",
    "    for x in berlin:\n",
    "        for y in munich:\n",
    "            if x==y:\n",
    "                com_ages.append(y)\n",
    "    print(com_ages)\n",
    "common_ages(x,y)"
   ]
  },
  {
   "cell_type": "code",
   "execution_count": 24,
   "metadata": {},
   "outputs": [
    {
     "name": "stdout",
     "output_type": "stream",
     "text": [
      "[15, 13, 16, 18, 19, 10]\n"
     ]
    }
   ],
   "source": [
    "#4\n",
    "def remove_duplicates (sam_list):\n",
    "    result = [] \n",
    "    for i in sam_list: \n",
    "        if i not in result: \n",
    "            result.append(i)\n",
    "    print(result)\n",
    "x=[15,13,16,18,19,15,10]\n",
    "remove_duplicates(x)\n"
   ]
  },
  {
   "cell_type": "code",
   "execution_count": 57,
   "metadata": {},
   "outputs": [
    {
     "name": "stdout",
     "output_type": "stream",
     "text": [
      "[]\n"
     ]
    }
   ],
   "source": [
    "#5\n",
    "def seek_destroy(x):\n",
    "    y=int(input())\n",
    "    z=[]\n",
    "    for i in x:\n",
    "        if y==i:\n",
    "            z.append(\"True\")\n",
    "    print(z)    \n",
    "samp=[1,2,3,4,5,6,7,8,9]\n",
    "seek_destroy(samp)"
   ]
  },
  {
   "cell_type": "code",
   "execution_count": 64,
   "metadata": {},
   "outputs": [
    {
     "data": {
      "text/plain": [
       "11"
      ]
     },
     "execution_count": 64,
     "metadata": {},
     "output_type": "execute_result"
    }
   ],
   "source": [
    "#Intermediate\n",
    "#1\n",
    "def find_outliner(a):\n",
    "    if a[0] % 2 != a[1] % 2:\n",
    "        return a[0] if a[2] % 2 == a[1] % 2 else a[1]\n",
    "    for i in a:\n",
    "        if i % 2 != a[0] % 2:\n",
    "            return i\n",
    "hhh=[2,4,6,8,10,11,12,14]\n",
    "find_outliner(hhh)"
   ]
  },
  {
   "cell_type": "code",
   "execution_count": 148,
   "metadata": {},
   "outputs": [
    {
     "data": {
      "text/plain": [
       "'Bart,Lisa,Maggie'"
      ]
     },
     "execution_count": 148,
     "metadata": {},
     "output_type": "execute_result"
    }
   ],
   "source": [
    "a=([ {\"name\": \"Bart\"}, {\"name\": \"Lisa\"}, {\"name\": \"Maggie\"} ])\n",
    "b=([ {\"name\": \"Lisa\"}, {\"name\": \"Maggie\"} ])\n",
    "c=([  {\"name\": \"Maggie\"} ])\n",
    "d=([])\n",
    "def nmlst(namelist):\n",
    "    \n",
    "    if len(namelist) == 0:\n",
    "        return \"\"\n",
    "    elif len(namelist) == 1:\n",
    "        return namelist[0][\"name\"]\n",
    "    else:\n",
    "        return \",\".join(i[\"name\"] for i in namelist)\n",
    "                \n",
    "                \n",
    "nmlst(a)"
   ]
  },
  {
   "cell_type": "code",
   "execution_count": 150,
   "metadata": {},
   "outputs": [
    {
     "data": {
      "text/plain": [
       "'Bart, Lisa & Maggie'"
      ]
     },
     "execution_count": 150,
     "metadata": {},
     "output_type": "execute_result"
    }
   ],
   "source": [
    "def namelist(names):\n",
    "    if len(names) == 0:\n",
    "        return ''\n",
    "    elif len(names) == 1:\n",
    "        return names[0]['name']\n",
    "    else:\n",
    "        return ', '.join(item['name'] for item in names[:-1]) + f\" & {names[-1]['name']}\"\n",
    "    \n",
    "x=([ {\"name\": \"Bart\"}, {\"name\": \"Lisa\"}, {\"name\": \"Maggie\"} ])\n",
    "namelist(x)"
   ]
  },
  {
   "cell_type": "code",
   "execution_count": null,
   "metadata": {},
   "outputs": [],
   "source": [
    "def filter_list(l):\n",
    "  result = [];\n",
    "  l = list(l);\n",
    "  for element in l:\n",
    "    if element != str(element):\n",
    "      result.append(element);\n",
    "  return result;\n"
   ]
  },
  {
   "cell_type": "code",
   "execution_count": 6,
   "metadata": {},
   "outputs": [
    {
     "name": "stdout",
     "output_type": "stream",
     "text": [
      "5\n"
     ]
    }
   ],
   "source": [
    "def getOddOccurrence(arr):\n",
    "  \n",
    "    # Initialize result\n",
    "    res = 0\n",
    "      \n",
    "    # Traverse the array\n",
    "    for element in arr:\n",
    "        # XOR with the result\n",
    "        res = res ^ element\n",
    "  \n",
    "    return res\n",
    "  \n",
    "# Test array\n",
    "arr = [ 20,1,-1,2,-2,3,3,5,5,1,2,4,20,4,-1,-2,5]\n",
    "  \n",
    "print(\"%d\" % getOddOccurrence(arr))\n",
    "\n",
    "#   20  10100\n",
    "#   1   00001\n",
    "#   -1  00001\n",
    "#   2   00010\n",
    "#   -2  00010\n",
    "#   3   00011\n",
    "#   3   00011\n",
    "#   5   00101\n",
    "#   5   00101\n",
    "\n"
   ]
  },
  {
   "cell_type": "code",
   "execution_count": 3,
   "metadata": {},
   "outputs": [],
   "source": [
    "examplestuff = [9]"
   ]
  },
  {
   "cell_type": "code",
   "execution_count": 6,
   "metadata": {},
   "outputs": [
    {
     "name": "stdout",
     "output_type": "stream",
     "text": [
      "0\n"
     ]
    }
   ],
   "source": [
    "abcd = 0\n",
    "print(abcd)"
   ]
  },
  {
   "cell_type": "code",
   "execution_count": 7,
   "metadata": {},
   "outputs": [
    {
     "name": "stdout",
     "output_type": "stream",
     "text": [
      "(1, 2, 4, 6)\n"
     ]
    }
   ],
   "source": [
    "\n",
    "testupload = (1,2,4,6)\n",
    "print(testupload)"
   ]
  }
 ],
 "metadata": {
  "kernelspec": {
   "display_name": "base",
   "language": "python",
   "name": "python3"
  },
  "language_info": {
   "codemirror_mode": {
    "name": "ipython",
    "version": 3
   },
   "file_extension": ".py",
   "mimetype": "text/x-python",
   "name": "python",
   "nbconvert_exporter": "python",
   "pygments_lexer": "ipython3",
   "version": "3.8.8"
  },
  "orig_nbformat": 4
 },
 "nbformat": 4,
 "nbformat_minor": 2
}
