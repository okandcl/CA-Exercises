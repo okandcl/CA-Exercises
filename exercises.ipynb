{
 "cells": [
  {
   "cell_type": "code",
   "execution_count": 9,
   "metadata": {},
   "outputs": [
    {
     "name": "stdout",
     "output_type": "stream",
     "text": [
      "okan\n"
     ]
    }
   ],
   "source": [
    "my_name = \"okan\"\n",
    "print(my_name)"
   ]
  },
  {
   "cell_type": "code",
   "execution_count": 7,
   "metadata": {},
   "outputs": [
    {
     "name": "stdout",
     "output_type": "stream",
     "text": [
      "37\n"
     ]
    }
   ],
   "source": [
    "age=(37)\n",
    "print(age)"
   ]
  },
  {
   "cell_type": "code",
   "execution_count": 10,
   "metadata": {},
   "outputs": [
    {
     "name": "stdout",
     "output_type": "stream",
     "text": [
      "5\n"
     ]
    }
   ],
   "source": [
    "julia_age=(32)\n",
    "age_diff=(age-julia_age)\n",
    "print(age_diff)"
   ]
  },
  {
   "cell_type": "code",
   "execution_count": 19,
   "metadata": {},
   "outputs": [
    {
     "name": "stdout",
     "output_type": "stream",
     "text": [
      "you are older than 21\n"
     ]
    }
   ],
   "source": [
    "if (age<21):\n",
    "    print(\"you are younger than 21\")\n",
    "else:\n",
    "    print(\"you are older than 21\")"
   ]
  },
  {
   "cell_type": "code",
   "execution_count": 29,
   "metadata": {},
   "outputs": [
    {
     "name": "stdout",
     "output_type": "stream",
     "text": [
      "you are older than julia\n"
     ]
    }
   ],
   "source": [
    "if (age<julia_age):\n",
    "    print(\"you are younger than julia\")\n",
    "elif (age==julia_age):\n",
    "     print(\"you are at same age as julia\")\n",
    "else:\n",
    "    print(\"you are older than julia\")\n",
    "\n"
   ]
  },
  {
   "cell_type": "code",
   "execution_count": 36,
   "metadata": {},
   "outputs": [
    {
     "name": "stdout",
     "output_type": "stream",
     "text": [
      "arjun\n",
      "yazdan\n",
      "arjun\n",
      "jost\n",
      "killian\n",
      "muayad\n",
      "chris\n",
      "lucas\n",
      "milan\n",
      "okan\n",
      "robert\n",
      "susan\n",
      "yazdan\n"
     ]
    }
   ],
   "source": [
    "names=[\"arjun\",\"jost\",\"killian\",\"muayad\",\"chris\",\"lucas\",\"milan\",\"okan\",\"robert\",\"susan\",\"yazdan\"]\n",
    "sorted(names)\n",
    "print(names[0])\n",
    "print(names[-1])\n",
    "for x in (names):\n",
    "    print(x)\n"
   ]
  },
  {
   "cell_type": "code",
   "execution_count": 42,
   "metadata": {},
   "outputs": [
    {
     "name": "stdout",
     "output_type": "stream",
     "text": [
      "20\n",
      "25\n",
      "26\n",
      "33\n",
      "37\n",
      "38\n",
      "20\n",
      "26\n",
      "38\n"
     ]
    }
   ],
   "source": [
    "ages=[20,25,26,33,37,38]\n",
    "for x in ages:\n",
    "    print(x)\n",
    "for x in ages:\n",
    "    if (x % 2 == 0):\n",
    "        print(x)\n"
   ]
  },
  {
   "cell_type": "code",
   "execution_count": 47,
   "metadata": {},
   "outputs": [
    {
     "name": "stdout",
     "output_type": "stream",
     "text": [
      "2\n"
     ]
    }
   ],
   "source": [
    "nbrs=[2,5,7,9,13,43,66,98]\n",
    "y=nbrs[0]\n",
    "for x in nbrs:\n",
    "    if x<y:\n",
    "        y=(x)\n",
    "print(y)"
   ]
  },
  {
   "cell_type": "code",
   "execution_count": 50,
   "metadata": {},
   "outputs": [
    {
     "name": "stdout",
     "output_type": "stream",
     "text": [
      "100\n"
     ]
    }
   ],
   "source": [
    "nbrs=[100,2,5,7,9,13,43,66,98]\n",
    "y=nbrs[0]\n",
    "for x in nbrs:\n",
    "    if x>y:\n",
    "        y=(x)\n",
    "print(y)"
   ]
  },
  {
   "cell_type": "code",
   "execution_count": 49,
   "metadata": {},
   "outputs": [
    {
     "name": "stdout",
     "output_type": "stream",
     "text": [
      "24\n",
      "28\n",
      "18\n",
      "13\n",
      "16\n",
      "17\n",
      "29\n",
      "27\n",
      "44\n",
      "15\n"
     ]
    }
   ],
   "source": [
    "customer_bd=[1999, 1995, 2005, 2010, 2007, 2006, 1994, 1996, 1979, 2008]\n",
    "for x in customer_bd:\n",
    "    print(2023-x)"
   ]
  },
  {
   "cell_type": "code",
   "execution_count": 135,
   "metadata": {},
   "outputs": [
    {
     "name": "stdout",
     "output_type": "stream",
     "text": [
      "Name is  Bob is 1999\n",
      "Name is  Jack is 1995\n",
      "Name is  Lisa is 2005\n",
      "Name is  Maria is 2010\n",
      "Name is  Ben is 2007\n",
      "Name is  Emma is 2006\n",
      "Name is  Oscar is 1994\n",
      "Name is  Amy is 1996\n",
      "Name is  Paul is 1979\n",
      "Name is  Etta is 2008\n"
     ]
    }
   ],
   "source": [
    "customer_list = [\n",
    "                    {\"name\": \"Bob\", \"age\": 1999},\n",
    "                    {\"name\": \"Jack\", \"age\": 1995},\n",
    "                    {\"name\": \"Lisa\", \"age\": 2005},\n",
    "                    {\"name\": \"Maria\", \"age\": 2010},\n",
    "                    {\"name\": \"Ben\", \"age\": 2007},\n",
    "                    {\"name\": \"Emma\", \"age\": 2006},\n",
    "                    {\"name\": \"Oscar\", \"age\": 1994},\n",
    "                    {\"name\": \"Amy\", \"age\": 1996},\n",
    "                    {\"name\": \"Paul\", \"age\": 1979},\n",
    "                    {\"name\": \"Etta\", \"age\": 2008}\n",
    "                ]\n",
    "for x in customer_list:\n",
    "    print('Name is ',x[\"name\"] ,'is', x[\"age\"])\n",
    "    \n",
    "    "
   ]
  },
  {
   "cell_type": "code",
   "execution_count": 139,
   "metadata": {},
   "outputs": [
    {
     "name": "stdout",
     "output_type": "stream",
     "text": [
      "[20, 24, 14, 12, 13, 25, 23, 11]\n"
     ]
    }
   ],
   "source": [
    "ages = [20, 24, 14, 9, 12, 13, 25, 23, 40, 11]\n",
    "y=ages[0]\n",
    "for x in ages:\n",
    "    if x>y:\n",
    "        y=(x)\n",
    "ages.remove(y)\n",
    "y=ages[0]\n",
    "for x in ages:\n",
    "    if x<y:\n",
    "        y=(x)\n",
    "ages.remove(y)\n",
    "print(ages)\n"
   ]
  },
  {
   "cell_type": "code",
   "execution_count": 140,
   "metadata": {},
   "outputs": [
    {
     "name": "stdout",
     "output_type": "stream",
     "text": [
      "[15, 13, 16, 18, 19, 10]\n"
     ]
    }
   ],
   "source": [
    "berlin = [15, 13, 16, 18, 19, 10, 12 ]\n",
    "munich = [7, 13, 15, 20, 19, 18, 10, 16]\n",
    "com_ages = []\n",
    "for x in berlin:\n",
    "    for y in munich:\n",
    "        if x==y:\n",
    "            com_ages.append(y)\n",
    "print(com_ages)"
   ]
  },
  {
   "cell_type": "code",
   "execution_count": 146,
   "metadata": {},
   "outputs": [
    {
     "name": "stdout",
     "output_type": "stream",
     "text": [
      "[13, 16, 18, 19, 10]\n"
     ]
    }
   ],
   "source": [
    "rem_dups=[15,13,16,18,19,15,10]\n",
    "y=rem_dups[0]\n",
    "for x in rem_dups:\n",
    "    if x==y:\n",
    "        rem_dups.remove(y)\n",
    "print(rem_dups)\n"
   ]
  },
  {
   "cell_type": "code",
   "execution_count": 154,
   "metadata": {},
   "outputs": [
    {
     "name": "stdout",
     "output_type": "stream",
     "text": [
      "hello asdasd have a nice day\n"
     ]
    }
   ],
   "source": [
    "def welcome(x):\n",
    "    print(\"hello \" + x+ \" have a nice day\")\n",
    "welcome(\"asdasd\")"
   ]
  },
  {
   "cell_type": "code",
   "execution_count": 158,
   "metadata": {},
   "outputs": [
    {
     "name": "stdout",
     "output_type": "stream",
     "text": [
      "24\n"
     ]
    }
   ],
   "source": [
    "def get_length(y):\n",
    "    z=0\n",
    "    for x in y:\n",
    "        z=(z+1)\n",
    "    print(z)\n",
    "\n",
    "get_length(\"ahmet the dead terrorist\")"
   ]
  },
  {
   "cell_type": "code",
   "execution_count": 160,
   "metadata": {},
   "outputs": [
    {
     "name": "stdout",
     "output_type": "stream",
     "text": [
      "no\n"
     ]
    }
   ],
   "source": [
    "def check_even(x):\n",
    "    if x%2==0:\n",
    "        print(\"yes\")\n",
    "    else:\n",
    "        print(\"no\")\n",
    "check_even(7)"
   ]
  },
  {
   "cell_type": "code",
   "execution_count": 163,
   "metadata": {},
   "outputs": [
    {
     "name": "stdout",
     "output_type": "stream",
     "text": [
      "[20, 24, 14, 12, 13, 25, 23, 11]\n"
     ]
    }
   ],
   "source": [
    "#ex18\n",
    "#x12\n",
    "def min_max_remove(ages):\n",
    "    y=ages[0]\n",
    "    for x in ages:\n",
    "        if x>y:\n",
    "            y=(x)\n",
    "    ages.remove(y)\n",
    "    y=ages[0]\n",
    "    for x in ages:\n",
    "        if x<y:\n",
    "            y=(x)\n",
    "    ages.remove(y)\n",
    "print(ages)\n"
   ]
  },
  {
   "cell_type": "code",
   "execution_count": 191,
   "metadata": {},
   "outputs": [
    {
     "name": "stdout",
     "output_type": "stream",
     "text": [
      "[15, 13, 16, 18, 19, 10]\n"
     ]
    }
   ],
   "source": [
    "#13\n",
    "def commons(berlin,munich):\n",
    "    com_ages = []\n",
    "    for x in berlin:\n",
    "        for y in munich:\n",
    "            if x==y:\n",
    "                com_ages.append(y)\n",
    "print(com_ages)"
   ]
  },
  {
   "cell_type": "code",
   "execution_count": 197,
   "metadata": {},
   "outputs": [
    {
     "name": "stdout",
     "output_type": "stream",
     "text": [
      "[3, 4, 5, 6, 7, 7, 8, 9]\n"
     ]
    }
   ],
   "source": [
    "#ex14\n",
    "def remove_duplicates(rem_dups):\n",
    "    y=rem_dups[0]\n",
    "    for x in rem_dups:\n",
    "        if x==y:\n",
    "            rem_dups.remove(y)\n",
    "    print(rem_dups)\n",
    "zort=[3,3,4,5,6,7,7,8,9,]\n",
    "remove_duplicates(zort)\n",
    "\n"
   ]
  },
  {
   "cell_type": "markdown",
   "metadata": {},
   "source": [
    "#Ex15\n",
    "#15 itself is a function WTF!"
   ]
  },
  {
   "cell_type": "code",
   "execution_count": 204,
   "metadata": {},
   "outputs": [
    {
     "name": "stdout",
     "output_type": "stream",
     "text": [
      "False\n"
     ]
    }
   ],
   "source": [
    "#EX19\n",
    "def wtf(x,y):\n",
    "    g=(\"False\")\n",
    "    for z in x:\n",
    "        if z==y:\n",
    "            g=(\"True\")\n",
    "    print(g)\n",
    "\n",
    "okan=[\"o\",\"k\",\"a\",\"n\"]\n",
    "wtf(okan,\"y\")"
   ]
  },
  {
   "cell_type": "code",
   "execution_count": 251,
   "metadata": {},
   "outputs": [
    {
     "name": "stdout",
     "output_type": "stream",
     "text": [
      "[24, 28, 18, 13, 16, 17, 29, 27, 44, 15]\n"
     ]
    }
   ],
   "source": [
    "#Optional exercises\n",
    "#1\n",
    "\n",
    "def cus_age(x):\n",
    "    z=[]\n",
    "    for y in x:\n",
    "        z.append(2023-y)\n",
    "    print(z)\n",
    "asd=[1999, 1995, 2005, 2010, 2007, 2006, 1994, 1996, 1979, 2008]\n",
    "cus_age(asd)\n"
   ]
  },
  {
   "cell_type": "code",
   "execution_count": null,
   "metadata": {},
   "outputs": [],
   "source": [
    "()"
   ]
  }
 ],
 "metadata": {
  "kernelspec": {
   "display_name": "base",
   "language": "python",
   "name": "python3"
  },
  "language_info": {
   "codemirror_mode": {
    "name": "ipython",
    "version": 3
   },
   "file_extension": ".py",
   "mimetype": "text/x-python",
   "name": "python",
   "nbconvert_exporter": "python",
   "pygments_lexer": "ipython3",
   "version": "3.8.8"
  },
  "orig_nbformat": 4
 },
 "nbformat": 4,
 "nbformat_minor": 2
}
